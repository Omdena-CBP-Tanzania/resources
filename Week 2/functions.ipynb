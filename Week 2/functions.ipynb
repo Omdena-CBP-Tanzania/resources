{
 "cells": [
  {
   "cell_type": "markdown",
   "id": "a8be8087-d659-4ff8-96a5-efcd5b623119",
   "metadata": {},
   "source": [
    "# What is a function:\n",
    "- A block of code that designed to do one job\n",
    "- You call a function to use it at any point\n",
    "- Helps use to avoid repeating the same code"
   ]
  },
  {
   "cell_type": "code",
   "execution_count": 2,
   "id": "7922fb69-a504-4af0-90fc-2b7089e0bac2",
   "metadata": {},
   "outputs": [],
   "source": [
    "# define a function\n",
    "# Functions are defined using the key word `def`\n",
    "\n",
    "def say_hello(): # define a function\n",
    "    print(\"Hello, There!\")    "
   ]
  },
  {
   "cell_type": "code",
   "execution_count": 3,
   "id": "bc920dab-2ec3-427b-b551-74201d8f2022",
   "metadata": {},
   "outputs": [
    {
     "name": "stdout",
     "output_type": "stream",
     "text": [
      "Hello, There!\n"
     ]
    }
   ],
   "source": [
    "# Calling a function\n",
    "say_hello() # THis is how to call a function"
   ]
  },
  {
   "cell_type": "code",
   "execution_count": 5,
   "id": "3311dd44-a670-4fdf-8302-5162247d50c8",
   "metadata": {},
   "outputs": [
    {
     "name": "stdout",
     "output_type": "stream",
     "text": [
      "Hello, There!\n"
     ]
    }
   ],
   "source": [
    "say_hello()"
   ]
  },
  {
   "cell_type": "markdown",
   "id": "a3141c88-5c82-4a8b-b7b7-2e5b3b7d95bf",
   "metadata": {},
   "source": [
    "# Parameters and Arguments"
   ]
  },
  {
   "cell_type": "code",
   "execution_count": 8,
   "id": "8d10fac1-7910-45ee-89d3-e71bf89180b7",
   "metadata": {},
   "outputs": [],
   "source": [
    "# Example function to greet someone\n",
    "def greetings(name):\n",
    "    print(f\"Hello, {name}!\")\n",
    "    "
   ]
  },
  {
   "cell_type": "code",
   "execution_count": 9,
   "id": "0808f49c-489e-464c-a129-e09ce64bf855",
   "metadata": {},
   "outputs": [
    {
     "name": "stdout",
     "output_type": "stream",
     "text": [
      "Hello, Desmond!\n"
     ]
    }
   ],
   "source": [
    "# Call the function with an argument called \"Desmond\"\n",
    "greetings(\"Desmond\")"
   ]
  },
  {
   "cell_type": "markdown",
   "id": "9a49e884-ca31-4b57-8c83-aaca426c74f6",
   "metadata": {},
   "source": [
    "# Default parameters\n"
   ]
  },
  {
   "cell_type": "code",
   "execution_count": 11,
   "id": "d4924b56-d2e1-4c3a-ac45-7d755415ae9a",
   "metadata": {},
   "outputs": [],
   "source": [
    "def greet(name=\"Guest\"):\n",
    "    print(f\"Hello, {name}!\")"
   ]
  },
  {
   "cell_type": "code",
   "execution_count": 12,
   "id": "be71e87a-d87e-4c30-ba5f-16984e1e9d5f",
   "metadata": {},
   "outputs": [
    {
     "name": "stdout",
     "output_type": "stream",
     "text": [
      "Hello, Alice!\n"
     ]
    }
   ],
   "source": [
    "greet(\"Alice\")"
   ]
  },
  {
   "cell_type": "code",
   "execution_count": 13,
   "id": "3fe18c1a-8c60-4834-a551-1564e99cf51b",
   "metadata": {},
   "outputs": [
    {
     "name": "stdout",
     "output_type": "stream",
     "text": [
      "Hello, Guest!\n"
     ]
    }
   ],
   "source": [
    "greet()"
   ]
  },
  {
   "cell_type": "markdown",
   "id": "aede08b5-a698-49b3-bed8-da17c9accad5",
   "metadata": {},
   "source": [
    "# Return Statements"
   ]
  },
  {
   "cell_type": "code",
   "execution_count": 14,
   "id": "7f71564c-f500-44f1-a926-7823f7c9f2d8",
   "metadata": {},
   "outputs": [],
   "source": [
    "def add(a, b):\n",
    "    return a + b"
   ]
  },
  {
   "cell_type": "code",
   "execution_count": 15,
   "id": "6dd499ae-7742-4dbf-99c7-9faf082dccbf",
   "metadata": {},
   "outputs": [
    {
     "name": "stdout",
     "output_type": "stream",
     "text": [
      "12\n"
     ]
    }
   ],
   "source": [
    "# Call the function:\n",
    "result = add(4, 8)\n",
    "print(result)"
   ]
  },
  {
   "cell_type": "code",
   "execution_count": 16,
   "id": "f05bdc6f-90dc-4647-bc27-59953b8cc949",
   "metadata": {},
   "outputs": [
    {
     "name": "stdout",
     "output_type": "stream",
     "text": [
      "35\n"
     ]
    }
   ],
   "source": [
    "def sub(x, y):\n",
    "    return x - y\n",
    "\n",
    "diff = sub(80, 45)\n",
    "print(diff)"
   ]
  },
  {
   "cell_type": "code",
   "execution_count": 17,
   "id": "fbbae72d-c6c7-42e6-afc7-264e62d5cde0",
   "metadata": {},
   "outputs": [
    {
     "name": "stdout",
     "output_type": "stream",
     "text": [
      "15 5 50 2.0\n"
     ]
    }
   ],
   "source": [
    "# Multiple return statement\n",
    "def math_operation(a, b):\n",
    "    return a +b, a-b, a*b, a/b\n",
    "\n",
    "sum_, diff, prod, div = math_operation(10, 5)\n",
    "print(sum_, diff, prod, div)"
   ]
  },
  {
   "cell_type": "markdown",
   "id": "7b561089-94ad-4e44-9232-31226580ad46",
   "metadata": {},
   "source": [
    "# Variable scope\n",
    "\n",
    "- **Local Variable** - inside a function\n",
    "- **Global Variable** - Outside of the function"
   ]
  },
  {
   "cell_type": "code",
   "execution_count": 19,
   "id": "fc41819f-fc89-4ed6-838d-8fdc053e63a0",
   "metadata": {},
   "outputs": [
    {
     "name": "stdout",
     "output_type": "stream",
     "text": [
      "inside is 5 and global is 10\n"
     ]
    },
    {
     "ename": "NameError",
     "evalue": "name 'x' is not defined",
     "output_type": "error",
     "traceback": [
      "\u001b[1;31m---------------------------------------------------------------------------\u001b[0m",
      "\u001b[1;31mNameError\u001b[0m                                 Traceback (most recent call last)",
      "Cell \u001b[1;32mIn[19], line 8\u001b[0m\n\u001b[0;32m      5\u001b[0m     \u001b[38;5;28mprint\u001b[39m(\u001b[38;5;124mf\u001b[39m\u001b[38;5;124m\"\u001b[39m\u001b[38;5;124minside is \u001b[39m\u001b[38;5;132;01m{\u001b[39;00mx\u001b[38;5;132;01m}\u001b[39;00m\u001b[38;5;124m and global is \u001b[39m\u001b[38;5;132;01m{\u001b[39;00mnum\u001b[38;5;132;01m}\u001b[39;00m\u001b[38;5;124m\"\u001b[39m)\n\u001b[0;32m      7\u001b[0m modify()\n\u001b[1;32m----> 8\u001b[0m \u001b[38;5;28mprint\u001b[39m(\u001b[43mx\u001b[49m)\n",
      "\u001b[1;31mNameError\u001b[0m: name 'x' is not defined"
     ]
    }
   ],
   "source": [
    "num = 10 # Global variable\n",
    "\n",
    "def modify():\n",
    "    x = 5 # THis is a local varibale\n",
    "    print(f\"inside is {x} and global is {num}\")\n",
    "\n",
    "modify()\n",
    "print(x)"
   ]
  },
  {
   "cell_type": "markdown",
   "id": "e42495e4-2633-4038-a576-ff4540f23b19",
   "metadata": {},
   "source": [
    "# Docstrings\n",
    "- Docstrings define for us what the function does"
   ]
  },
  {
   "cell_type": "code",
   "execution_count": 20,
   "id": "266e912e-669a-47df-ac25-54a84fe41660",
   "metadata": {},
   "outputs": [
    {
     "data": {
      "text/plain": [
       "28"
      ]
     },
     "execution_count": 20,
     "metadata": {},
     "output_type": "execute_result"
    }
   ],
   "source": [
    "def multiply(a, b):\n",
    "    \"\"\" This function returns the \n",
    "    product of 2 numbers.\n",
    "    \"\"\"\n",
    "    \n",
    "    return a * b\n",
    "\n",
    "multiply(4,7)"
   ]
  },
  {
   "cell_type": "code",
   "execution_count": 21,
   "id": "0d44c6ba-11df-4c31-9a39-4b766179f64b",
   "metadata": {},
   "outputs": [
    {
     "name": "stdout",
     "output_type": "stream",
     "text": [
      "30\n"
     ]
    }
   ],
   "source": [
    "multiply = lambda x, y: x * y\n",
    "print(multiply(5, 6))"
   ]
  },
  {
   "cell_type": "code",
   "execution_count": null,
   "id": "883e9c96-4c80-475b-b228-fc992bb47f4a",
   "metadata": {},
   "outputs": [],
   "source": []
  }
 ],
 "metadata": {
  "kernelspec": {
   "display_name": "Python 3 (ipykernel)",
   "language": "python",
   "name": "python3"
  },
  "language_info": {
   "codemirror_mode": {
    "name": "ipython",
    "version": 3
   },
   "file_extension": ".py",
   "mimetype": "text/x-python",
   "name": "python",
   "nbconvert_exporter": "python",
   "pygments_lexer": "ipython3",
   "version": "3.12.7"
  }
 },
 "nbformat": 4,
 "nbformat_minor": 5
}
