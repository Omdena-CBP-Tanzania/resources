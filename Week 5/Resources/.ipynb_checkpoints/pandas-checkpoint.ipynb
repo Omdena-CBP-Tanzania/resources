{
 "cells": [
  {
   "cell_type": "code",
   "execution_count": 1,
   "id": "8357b474-5809-4157-bafa-0b70b5915a9e",
   "metadata": {},
   "outputs": [
    {
     "name": "stdout",
     "output_type": "stream",
     "text": [
      "Requirement already satisfied: pandas in d:\\data\\anaconda3\\lib\\site-packages (2.2.2)\n",
      "Requirement already satisfied: numpy>=1.26.0 in d:\\data\\anaconda3\\lib\\site-packages (from pandas) (1.26.4)\n",
      "Requirement already satisfied: python-dateutil>=2.8.2 in d:\\data\\anaconda3\\lib\\site-packages (from pandas) (2.9.0.post0)\n",
      "Requirement already satisfied: pytz>=2020.1 in d:\\data\\anaconda3\\lib\\site-packages (from pandas) (2024.1)\n",
      "Requirement already satisfied: tzdata>=2022.7 in d:\\data\\anaconda3\\lib\\site-packages (from pandas) (2023.3)\n",
      "Requirement already satisfied: six>=1.5 in d:\\data\\anaconda3\\lib\\site-packages (from python-dateutil>=2.8.2->pandas) (1.16.0)\n"
     ]
    }
   ],
   "source": [
    "# Installation of pandas\n",
    "!pip install pandas"
   ]
  },
  {
   "cell_type": "code",
   "execution_count": 2,
   "id": "dc4c580f-6cfb-4c07-9dd2-d411728052a3",
   "metadata": {},
   "outputs": [],
   "source": [
    "# Importing the pandas\n",
    "import pandas as pd"
   ]
  },
  {
   "cell_type": "markdown",
   "id": "4aa565f1-db78-48f8-ad08-e121461b3dc7",
   "metadata": {},
   "source": [
    "## Pandas Data Structures\n",
    "- Series (1D) - it is a 1 Dimensional Labbeled array\n",
    "- DataFrame (2D) - A 2 Dimensional Table"
   ]
  },
  {
   "cell_type": "code",
   "execution_count": 3,
   "id": "6158410c-36c7-4483-af14-f526a47bcb86",
   "metadata": {},
   "outputs": [],
   "source": [
    "# Series\n",
    "data = [10, 20, 30, 40]\n",
    "series1 = pd.Series(data)"
   ]
  },
  {
   "cell_type": "code",
   "execution_count": 4,
   "id": "b248bb6b-a66b-405a-a3b2-c23b03d26c8b",
   "metadata": {},
   "outputs": [
    {
     "name": "stdout",
     "output_type": "stream",
     "text": [
      "0    10\n",
      "1    20\n",
      "2    30\n",
      "3    40\n",
      "dtype: int64\n"
     ]
    }
   ],
   "source": [
    "print(series1)"
   ]
  },
  {
   "cell_type": "code",
   "execution_count": 5,
   "id": "b2d397e0-c887-4297-bdd3-a7314e5b85c2",
   "metadata": {},
   "outputs": [
    {
     "data": {
      "text/plain": [
       "pandas.core.series.Series"
      ]
     },
     "execution_count": 5,
     "metadata": {},
     "output_type": "execute_result"
    }
   ],
   "source": [
    "type(series1)"
   ]
  },
  {
   "cell_type": "code",
   "execution_count": 6,
   "id": "995390c9-e11d-405e-a36d-ea6441df184f",
   "metadata": {},
   "outputs": [
    {
     "data": {
      "text/plain": [
       "list"
      ]
     },
     "execution_count": 6,
     "metadata": {},
     "output_type": "execute_result"
    }
   ],
   "source": [
    "type(data)"
   ]
  },
  {
   "cell_type": "code",
   "execution_count": 7,
   "id": "690d7e26-cbc8-4e57-a80d-024c8d183cab",
   "metadata": {},
   "outputs": [
    {
     "name": "stdout",
     "output_type": "stream",
     "text": [
      "a    10\n",
      "b    20\n",
      "c    30\n",
      "d    40\n",
      "dtype: int64\n"
     ]
    }
   ],
   "source": [
    "# specify the index\n",
    "series = pd.Series(data, index =[\"a\", \"b\", \"c\", \"d\"])\n",
    "print(series)"
   ]
  },
  {
   "cell_type": "code",
   "execution_count": 8,
   "id": "7c203892-755a-402c-9338-1f970b1fd250",
   "metadata": {},
   "outputs": [],
   "source": [
    "# DataFrame\n",
    "data = {\n",
    "    \"Name\" : ['Alice', \"Bob\", \"Charlie\", \"Don\"],\n",
    "    \"Age\" : [24, 30, 26, 18],\n",
    "    \"Salary\" : [5000, 4000, 6000, 7000]\n",
    "}\n"
   ]
  },
  {
   "cell_type": "code",
   "execution_count": 9,
   "id": "13ac5414-c6cf-44ef-adc6-7527ca423040",
   "metadata": {},
   "outputs": [
    {
     "data": {
      "text/plain": [
       "{'Name': ['Alice', 'Bob', 'Charlie', 'Don'],\n",
       " 'Age': [24, 30, 26, 18],\n",
       " 'Salary': [5000, 4000, 6000, 7000]}"
      ]
     },
     "execution_count": 9,
     "metadata": {},
     "output_type": "execute_result"
    }
   ],
   "source": [
    "data"
   ]
  },
  {
   "cell_type": "code",
   "execution_count": 10,
   "id": "26dc252d-c962-4eaa-a1ef-79f96e020e43",
   "metadata": {},
   "outputs": [
    {
     "name": "stdout",
     "output_type": "stream",
     "text": [
      "      Name  Age  Salary\n",
      "0    Alice   24    5000\n",
      "1      Bob   30    4000\n",
      "2  Charlie   26    6000\n",
      "3      Don   18    7000\n"
     ]
    }
   ],
   "source": [
    "# Dataframe\n",
    "df = pd.DataFrame(data)\n",
    "print(df)"
   ]
  },
  {
   "cell_type": "markdown",
   "id": "1d94cc73-9fdb-47b4-8aa6-14c9201c5dfa",
   "metadata": {},
   "source": [
    "# Reading and writing data\n",
    "- read, write multiple file formats"
   ]
  },
  {
   "cell_type": "code",
   "execution_count": 11,
   "id": "dc6ad230-ab87-4858-9aac-c02b7317c7f7",
   "metadata": {},
   "outputs": [],
   "source": [
    "# Reading CSV Files\n",
    "csv_data = pd.read_csv(\"C:/Users/Admin/Desktop/Omdena/Tanzania_CBWP_KIC/Week 5/Resources/movies.csv\")\n",
    "# path = \"C:\\Users\\Admin\\Desktop\\Omdena\\Tanzania_CBWP_KIC\\Week 5\\Resources\\movies.csv\""
   ]
  },
  {
   "cell_type": "code",
   "execution_count": 12,
   "id": "83ae0996-0c0c-47e5-ae05-439d5229cb11",
   "metadata": {},
   "outputs": [
    {
     "name": "stdout",
     "output_type": "stream",
     "text": [
      "                                   MOVIES         YEAR  \\\n",
      "0                           Blood Red Sky       (2021)   \n",
      "1     Masters of the Universe: Revelation     (2021– )   \n",
      "2                        The Walking Dead  (2010–2022)   \n",
      "3                          Rick and Morty     (2013– )   \n",
      "4                         Army of Thieves       (2021)   \n",
      "...                                   ...          ...   \n",
      "9994                       The Imperfects     (2021– )   \n",
      "9995                               Arcane     (2021– )   \n",
      "9996                    Heart of Invictus     (2022– )   \n",
      "9997                       The Imperfects     (2021– )   \n",
      "9998                       The Imperfects     (2021– )   \n",
      "\n",
      "                                           GENRE  RATING  \\\n",
      "0         \\nAction, Horror, Thriller                 6.1   \n",
      "1     \\nAnimation, Action, Adventure                 5.0   \n",
      "2          \\nDrama, Horror, Thriller                 8.2   \n",
      "3     \\nAnimation, Adventure, Comedy                 9.2   \n",
      "4            \\nAction, Crime, Horror                 NaN   \n",
      "...                                          ...     ...   \n",
      "9994     \\nAdventure, Drama, Fantasy                 NaN   \n",
      "9995  \\nAnimation, Action, Adventure                 NaN   \n",
      "9996            \\nDocumentary, Sport                 NaN   \n",
      "9997     \\nAdventure, Drama, Fantasy                 NaN   \n",
      "9998     \\nAdventure, Drama, Fantasy                 NaN   \n",
      "\n",
      "                                               ONE-LINE  \\\n",
      "0     \\nA woman with a mysterious illness is forced ...   \n",
      "1     \\nThe war for Eternia begins again in what may...   \n",
      "2     \\nSheriff Deputy Rick Grimes wakes up from a c...   \n",
      "3     \\nAn animated series that follows the exploits...   \n",
      "4     \\nA prequel, set before the events of Army of ...   \n",
      "...                                                 ...   \n",
      "9994                                     \\nAdd a Plot\\n   \n",
      "9995                                     \\nAdd a Plot\\n   \n",
      "9996                                     \\nAdd a Plot\\n   \n",
      "9997                                     \\nAdd a Plot\\n   \n",
      "9998                                     \\nAdd a Plot\\n   \n",
      "\n",
      "                                                  STARS    VOTES  RunTime  \\\n",
      "0     \\n    Director:\\nPeter Thorwarth\\n| \\n    Star...   21,062    121.0   \n",
      "1     \\n            \\n    Stars:\\nChris Wood, \\nSara...   17,870     25.0   \n",
      "2     \\n            \\n    Stars:\\nAndrew Lincoln, \\n...  885,805     44.0   \n",
      "3     \\n            \\n    Stars:\\nJustin Roiland, \\n...  414,849     23.0   \n",
      "4     \\n    Director:\\nMatthias Schweighöfer\\n| \\n  ...      NaN      NaN   \n",
      "...                                                 ...      ...      ...   \n",
      "9994  \\n            \\n    Stars:\\nMorgan Taylor Camp...      NaN      NaN   \n",
      "9995                                                 \\n      NaN      NaN   \n",
      "9996  \\n    Director:\\nOrlando von Einsiedel\\n| \\n  ...      NaN      NaN   \n",
      "9997  \\n    Director:\\nJovanka Vuckovic\\n| \\n    Sta...      NaN      NaN   \n",
      "9998  \\n    Director:\\nJovanka Vuckovic\\n| \\n    Sta...      NaN      NaN   \n",
      "\n",
      "     Gross  \n",
      "0      NaN  \n",
      "1      NaN  \n",
      "2      NaN  \n",
      "3      NaN  \n",
      "4      NaN  \n",
      "...    ...  \n",
      "9994   NaN  \n",
      "9995   NaN  \n",
      "9996   NaN  \n",
      "9997   NaN  \n",
      "9998   NaN  \n",
      "\n",
      "[9999 rows x 9 columns]\n"
     ]
    }
   ],
   "source": [
    "print(csv_data)"
   ]
  },
  {
   "cell_type": "code",
   "execution_count": null,
   "id": "0cfae659-fb79-4714-aa3b-d8b3f613044b",
   "metadata": {},
   "outputs": [],
   "source": [
    "# Reading an Excel file\n",
    "excel_data = pd.read_excel(\"C:/Users/Admin/Desktop/Omdena/Tanzania_CBWP_KIC/Week 5/Resources/electricity_consumption.xlsx\")"
   ]
  }
 ],
 "metadata": {
  "kernelspec": {
   "display_name": "Python 3 (ipykernel)",
   "language": "python",
   "name": "python3"
  },
  "language_info": {
   "codemirror_mode": {
    "name": "ipython",
    "version": 3
   },
   "file_extension": ".py",
   "mimetype": "text/x-python",
   "name": "python",
   "nbconvert_exporter": "python",
   "pygments_lexer": "ipython3",
   "version": "3.12.7"
  }
 },
 "nbformat": 4,
 "nbformat_minor": 5
}
