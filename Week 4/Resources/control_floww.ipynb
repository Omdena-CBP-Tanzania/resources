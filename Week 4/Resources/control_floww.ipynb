{
 "cells": [
  {
   "cell_type": "markdown",
   "id": "6d2977a9-c472-4d3c-94ce-fdec7fcfdac9",
   "metadata": {},
   "source": [
    "# 1. Conditional Statements\n",
    "## 1.1 if statement"
   ]
  },
  {
   "cell_type": "code",
   "execution_count": 2,
   "id": "9eccec48-dfdb-418e-95ee-7250d05b3a13",
   "metadata": {},
   "outputs": [
    {
     "name": "stdout",
     "output_type": "stream",
     "text": [
      "Number is greater than 5\n"
     ]
    }
   ],
   "source": [
    "num = 10\n",
    "if num > 5:\n",
    "    print(\"Number is greater than 5\")"
   ]
  },
  {
   "cell_type": "code",
   "execution_count": 3,
   "id": "aeb9beb0-95d4-40e0-8bff-eb0ddb1c64b0",
   "metadata": {},
   "outputs": [],
   "source": [
    "if num > 15:\n",
    "    print(\"Number is greater than 15\")"
   ]
  },
  {
   "cell_type": "markdown",
   "id": "1417ba2e-5f47-4952-af33-b8fcc489af21",
   "metadata": {},
   "source": [
    "## If else statement"
   ]
  },
  {
   "cell_type": "code",
   "execution_count": 4,
   "id": "12360848-2a37-487a-a4b2-fad04254dddd",
   "metadata": {},
   "outputs": [
    {
     "name": "stdout",
     "output_type": "stream",
     "text": [
      "Number is less than 5\n"
     ]
    }
   ],
   "source": [
    "num = 3\n",
    "if num > 5:\n",
    "    print(\"number is greater than 5\")\n",
    "else:\n",
    "    print(\"Number is less than 5\")"
   ]
  },
  {
   "cell_type": "code",
   "execution_count": 5,
   "id": "141465a4-f63a-4b77-99ed-25984e7bc964",
   "metadata": {},
   "outputs": [
    {
     "name": "stdout",
     "output_type": "stream",
     "text": [
      "number is less than 3\n"
     ]
    }
   ],
   "source": [
    "num = 3\n",
    "if num > 3:\n",
    "    print(\"number is greater than 3\")\n",
    "else: \n",
    "    print(\"number is less than 3\")"
   ]
  },
  {
   "cell_type": "markdown",
   "id": "fffdb467-ed99-4733-a904-ada629d6dccc",
   "metadata": {},
   "source": [
    "### if-elif-else statement\n",
    "\n"
   ]
  },
  {
   "cell_type": "code",
   "execution_count": 8,
   "id": "a8ce2c8d-77a3-43b2-9478-53e523f226e3",
   "metadata": {},
   "outputs": [
    {
     "name": "stdout",
     "output_type": "stream",
     "text": [
      "number is greater than 5\n"
     ]
    }
   ],
   "source": [
    "num = 7\n",
    "if num < 5:\n",
    "    print(\"number is less than 5\")\n",
    "elif num == 5:\n",
    "    print(\"number is equal to 5\")\n",
    "else:\n",
    "    print(\"number is greater than 5\")"
   ]
  },
  {
   "cell_type": "markdown",
   "id": "b83e675c-535d-4492-9e59-b95ac57c9c32",
   "metadata": {},
   "source": [
    "# Loops\n",
    "\n",
    "## For Loops\n",
    "- used to iterate over a sequence (list, tuple, dictionary, string)"
   ]
  },
  {
   "cell_type": "code",
   "execution_count": 10,
   "id": "b59a1d13-7e2b-4f75-8c79-d1db3cfec866",
   "metadata": {},
   "outputs": [
    {
     "name": "stdout",
     "output_type": "stream",
     "text": [
      "apple\n",
      "banana\n",
      "cherry\n"
     ]
    }
   ],
   "source": [
    "fruits = [\"apple\", \"banana\", \"cherry\"]\n",
    "for x in fruits:\n",
    "    print(x)"
   ]
  },
  {
   "cell_type": "code",
   "execution_count": 11,
   "id": "2d3714ff-fa9b-4f6e-b4ca-46aa10aae0ef",
   "metadata": {},
   "outputs": [
    {
     "name": "stdout",
     "output_type": "stream",
     "text": [
      "1\n",
      "2\n",
      "3\n",
      "4\n",
      "5\n"
     ]
    }
   ],
   "source": [
    "for i in range(1,6):\n",
    "    print(i)"
   ]
  },
  {
   "cell_type": "code",
   "execution_count": 12,
   "id": "2944734c-0a05-41af-acc2-b550db68338e",
   "metadata": {},
   "outputs": [
    {
     "name": "stdout",
     "output_type": "stream",
     "text": [
      "Name\n",
      "Age\n",
      "City\n"
     ]
    }
   ],
   "source": [
    "my_dict = {\n",
    "    \"Name\" : \"Desmond\",\n",
    "    \"Age\" : 35,\n",
    "    \"City\": \"New York\"\n",
    "}\n",
    "for key in my_dict:\n",
    "    print(key)"
   ]
  },
  {
   "cell_type": "code",
   "execution_count": 13,
   "id": "0f4e7a91-cd7a-4282-8285-dbe6d4e9bc86",
   "metadata": {},
   "outputs": [
    {
     "name": "stdout",
     "output_type": "stream",
     "text": [
      "Key: Name, value: Desmond\n",
      "Key: Age, value: 35\n",
      "Key: City, value: New York\n"
     ]
    }
   ],
   "source": [
    "for key, value in my_dict.items():\n",
    "    print(f\"Key: {key}, value: {value}\")"
   ]
  },
  {
   "cell_type": "code",
   "execution_count": 15,
   "id": "e1f5086e-1ee2-4a97-928b-f0186cc00efb",
   "metadata": {},
   "outputs": [
    {
     "name": "stdout",
     "output_type": "stream",
     "text": [
      "Desmond\n",
      "35\n",
      "New York\n"
     ]
    }
   ],
   "source": [
    "for value in my_dict.values():\n",
    "    print(value)"
   ]
  },
  {
   "cell_type": "markdown",
   "id": "deff9264-c860-41d6-ad5f-2ff9edd2a3cd",
   "metadata": {},
   "source": [
    "## While loops"
   ]
  },
  {
   "cell_type": "code",
   "execution_count": 16,
   "id": "8ba2fadb-4bf9-4dff-bfc3-5ec8b6a2137a",
   "metadata": {},
   "outputs": [
    {
     "name": "stdout",
     "output_type": "stream",
     "text": [
      "0\n",
      "1\n",
      "2\n",
      "3\n",
      "4\n"
     ]
    }
   ],
   "source": [
    "x = 0\n",
    "while x < 5:\n",
    "    print(x)\n",
    "    x += 1"
   ]
  },
  {
   "cell_type": "markdown",
   "id": "c42ff347-e364-471c-8cd3-188132459b85",
   "metadata": {},
   "source": [
    "# Jump statement\n",
    "\n",
    "## Break"
   ]
  },
  {
   "cell_type": "code",
   "execution_count": 17,
   "id": "51aec697-e519-4bca-828f-90c1180a6bee",
   "metadata": {},
   "outputs": [
    {
     "name": "stdout",
     "output_type": "stream",
     "text": [
      "1\n",
      "2\n",
      "3\n",
      "4\n"
     ]
    }
   ],
   "source": [
    "for i in range(1, 10):\n",
    "    if i == 5:\n",
    "        break\n",
    "    print(i)"
   ]
  },
  {
   "cell_type": "markdown",
   "id": "c0dd28b2-46c9-429a-8db4-ac82e4bb92be",
   "metadata": {},
   "source": [
    "## Continue"
   ]
  },
  {
   "cell_type": "code",
   "execution_count": 18,
   "id": "63cf3d57-1b51-4a3f-9fa5-5123deb79a19",
   "metadata": {},
   "outputs": [
    {
     "name": "stdout",
     "output_type": "stream",
     "text": [
      "1\n",
      "2\n",
      "4\n",
      "5\n"
     ]
    }
   ],
   "source": [
    "for i in range(1, 6):\n",
    "    if i == 3:\n",
    "        continue\n",
    "    print(i)"
   ]
  },
  {
   "cell_type": "markdown",
   "id": "4c79b51c-d9e0-471f-96d1-7b770721423a",
   "metadata": {},
   "source": [
    "## Pass\n",
    "- It does nothing and is used as a placeholder"
   ]
  },
  {
   "cell_type": "code",
   "execution_count": 19,
   "id": "e6c16c16-4455-4cf1-a464-14bbe7083f7c",
   "metadata": {},
   "outputs": [
    {
     "name": "stdout",
     "output_type": "stream",
     "text": [
      "1\n",
      "2\n",
      "3\n",
      "4\n"
     ]
    }
   ],
   "source": [
    "for i in range(1,5):\n",
    "    if i == 3:\n",
    "        pass\n",
    "    print(i)"
   ]
  },
  {
   "cell_type": "code",
   "execution_count": 20,
   "id": "8ea8dd1e-24b8-4c2d-98ab-bc728be9dbc7",
   "metadata": {},
   "outputs": [],
   "source": [
    "def add(a, b):\n",
    "    pass"
   ]
  },
  {
   "cell_type": "code",
   "execution_count": 21,
   "id": "b3749c62-6f65-4447-be92-44baffe71ad4",
   "metadata": {},
   "outputs": [
    {
     "ename": "SyntaxError",
     "evalue": "incomplete input (1933008339.py, line 2)",
     "output_type": "error",
     "traceback": [
      "\u001b[1;36m  Cell \u001b[1;32mIn[21], line 2\u001b[1;36m\u001b[0m\n\u001b[1;33m    \u001b[0m\n\u001b[1;37m    ^\u001b[0m\n\u001b[1;31mSyntaxError\u001b[0m\u001b[1;31m:\u001b[0m incomplete input\n"
     ]
    }
   ],
   "source": [
    "def add_(a, b):\n",
    "    "
   ]
  },
  {
   "cell_type": "markdown",
   "id": "8a3caa50-963e-439b-b1ad-43ddf7307984",
   "metadata": {},
   "source": [
    "# Combining loops and conditional statement\n",
    "## Nested Loops"
   ]
  },
  {
   "cell_type": "code",
   "execution_count": 24,
   "id": "5f206086-22ea-410a-ae04-dce3757d5d96",
   "metadata": {},
   "outputs": [
    {
     "name": "stdout",
     "output_type": "stream",
     "text": [
      "i is 1 and j is 2\n",
      "i is 1 and j is 3\n",
      "i is 2 and j is 1\n",
      "i is 2 and j is 3\n",
      "i is 3 and j is 1\n",
      "i is 3 and j is 2\n"
     ]
    }
   ],
   "source": [
    "for i in range(1,4):\n",
    "    for j in range(1,4):\n",
    "        if i != j:\n",
    "            print(f\"i is {i} and j is {j}\")"
   ]
  },
  {
   "cell_type": "code",
   "execution_count": null,
   "id": "dc6c53e7-1ebc-4417-b21f-91891a9d43c5",
   "metadata": {},
   "outputs": [],
   "source": []
  }
 ],
 "metadata": {
  "kernelspec": {
   "display_name": "Python 3 (ipykernel)",
   "language": "python",
   "name": "python3"
  },
  "language_info": {
   "codemirror_mode": {
    "name": "ipython",
    "version": 3
   },
   "file_extension": ".py",
   "mimetype": "text/x-python",
   "name": "python",
   "nbconvert_exporter": "python",
   "pygments_lexer": "ipython3",
   "version": "3.12.7"
  }
 },
 "nbformat": 4,
 "nbformat_minor": 5
}
